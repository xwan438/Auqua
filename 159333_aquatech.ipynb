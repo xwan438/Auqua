{
 "cells": [
  {
   "cell_type": "code",
   "execution_count": 2,
   "metadata": {},
   "outputs": [
    {
     "name": "stdout",
     "output_type": "stream",
     "text": [
      "Temperature(℃)23\n",
      "23 ℃\n",
      "Temperature(℃)20\n",
      "20 ℃\n",
      "Temperature(℃)32\n",
      "32 ℃\n",
      "Temperature(℃)18\n",
      "18 ℃\n",
      "Temperature(℃)31\n",
      "31 ℃\n",
      "Temperature(℃)10\n",
      "10 ℃\n",
      "Temperature(℃)20\n",
      "20 ℃\n",
      "Temperature(℃)22\n",
      "22 ℃\n",
      "Temperature(℃)11\n",
      "11 ℃\n",
      "Temperature(℃)22\n",
      "22 ℃\n",
      "Temperature(℃)28\n",
      "28 ℃\n",
      "Temperature(℃)23\n",
      "23 ℃\n",
      "Temperature(℃)27\n",
      "27 ℃\n",
      "Temperature(℃)13\n",
      "13 ℃\n",
      "Temperature(℃)20\n",
      "20 ℃\n",
      "Temperature(℃)21\n",
      "21 ℃\n",
      "Temperature(℃)34\n",
      "34 ℃\n",
      "Temperature(℃)32\n",
      "32 ℃\n",
      "Temperature(℃)9\n",
      "9 ℃\n",
      "Temperature(℃)14\n",
      "14 ℃\n",
      "Temperature(℃)15\n",
      "15 ℃\n",
      "Temperature(℃)17\n",
      "17 ℃\n",
      "Temperature(℃)10\n",
      "10 ℃\n",
      "Temperature(℃)25\n",
      "25 ℃\n"
     ]
    }
   ],
   "source": [
    "#Functionality / alerts code\n",
    "temperature = 0\n",
    "#print(temperature)\n",
    "water_temps = []\n",
    "#print(water_temps)\n",
    "#water_temps.append(temperature)\n",
    "#print(water_temps)\n",
    "#Generates an example dataset\n",
    "for i in range(0, 24):\n",
    "    temperature = input(\"Temperature(℃)\")\n",
    "    print(temperature,\"℃\")\n",
    "    water_temps.append(temperature)"
   ]
  },
  {
   "cell_type": "code",
   "execution_count": 3,
   "metadata": {},
   "outputs": [
    {
     "name": "stdout",
     "output_type": "stream",
     "text": [
      "['23', '20', '32', '18', '31', '10', '20', '22', '11', '22', '28', '23', '27', '13', '20', '21', '34', '32', '9', '14', '15', '17', '10', '25']\n"
     ]
    }
   ],
   "source": [
    "print(water_temps)"
   ]
  },
  {
   "cell_type": "code",
   "execution_count": null,
   "metadata": {},
   "outputs": [],
   "source": []
  }
 ],
 "metadata": {
  "kernelspec": {
   "display_name": "Python 3",
   "language": "python",
   "name": "python3"
  },
  "language_info": {
   "codemirror_mode": {
    "name": "ipython",
    "version": 3
   },
   "file_extension": ".py",
   "mimetype": "text/x-python",
   "name": "python",
   "nbconvert_exporter": "python",
   "pygments_lexer": "ipython3",
   "version": "3.8.5"
  }
 },
 "nbformat": 4,
 "nbformat_minor": 4
}
