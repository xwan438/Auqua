{
 "cells": [
  {
   "cell_type": "code",
   "execution_count": 4,
   "metadata": {},
   "outputs": [],
   "source": [
    "import pandas as pd\n",
    "import numpy as np\n",
    "import matplotlib.pyplot as plt\n",
    "import time\n",
    "import seaborn as sns\n",
    "from pylab import rcParams"
   ]
  },
  {
   "cell_type": "code",
   "execution_count": 5,
   "metadata": {},
   "outputs": [],
   "source": [
    "sns.set(style=\"ticks\")\n",
    "from pylab import rcParams\n",
    "\n",
    "rcParams['figure.dpi'] = 350\n",
    "rcParams['lines.linewidth'] = 2\n",
    "rcParams['axes.facecolor'] = 'white'\n",
    "rcParams['patch.edgecolor'] = 'white'\n",
    "rcParams['font.family'] = 'StixGeneral'"
   ]
  },
  {
   "cell_type": "code",
   "execution_count": 6,
   "metadata": {},
   "outputs": [],
   "source": [
    "pd.set_option('max_columns', 40)\n",
    "pd.set_option('max_rows', 40)"
   ]
  },
  {
   "cell_type": "code",
   "execution_count": 7,
   "metadata": {},
   "outputs": [],
   "source": [
    "%matplotlib inline"
   ]
  },
  {
   "cell_type": "code",
   "execution_count": 5,
   "metadata": {},
   "outputs": [
    {
     "name": "stdout",
     "output_type": "stream",
     "text": [
      "Enter your location:Gulf Harbour\n",
      "Gulf Harbour\n",
      "Temperature(℃)23\n",
      "23 ℃\n",
      "Temperature(℃)20\n",
      "20 ℃\n",
      "Temperature(℃)32\n",
      "32 ℃\n",
      "Temperature(℃)18\n",
      "18 ℃\n",
      "Temperature(℃)31\n",
      "31 ℃\n",
      "Temperature(℃)10\n",
      "10 ℃\n",
      "Temperature(℃)20\n",
      "20 ℃\n",
      "Temperature(℃)22\n",
      "22 ℃\n",
      "Temperature(℃)11\n",
      "11 ℃\n",
      "Temperature(℃)22\n",
      "22 ℃\n",
      "Temperature(℃)28\n",
      "28 ℃\n",
      "Temperature(℃)23\n",
      "23 ℃\n",
      "Temperature(℃)27\n",
      "27 ℃\n",
      "Temperature(℃)13\n",
      "13 ℃\n",
      "Temperature(℃)20\n",
      "20 ℃\n",
      "Temperature(℃)21\n",
      "21 ℃\n",
      "Temperature(℃)34\n",
      "34 ℃\n",
      "Temperature(℃)32\n",
      "32 ℃\n",
      "Temperature(℃)9\n",
      "9 ℃\n",
      "Temperature(℃)14\n",
      "14 ℃\n",
      "Temperature(℃)15\n",
      "15 ℃\n",
      "Temperature(℃)17\n",
      "17 ℃\n",
      "Temperature(℃)10\n",
      "10 ℃\n",
      "Temperature(℃)25\n",
      "25 ℃\n"
     ]
    }
   ],
   "source": [
    "#Functionality / alerts code\n",
    "location = input(\"Enter your location:\")\n",
    "print(location)\n",
    "\n",
    "temperature = 0\n",
    "#print(temperature)\n",
    "water_temps = []\n",
    "#print(water_temps)\n",
    "\n",
    "#Generates an example dataset\n",
    "for i in range(0, 24):\n",
    "    temperature = int(input(\"Temperature(℃)\"))\n",
    "    print(temperature,\"℃\")\n",
    "    water_temps.append(temperature)"
   ]
  },
  {
   "cell_type": "code",
   "execution_count": 13,
   "metadata": {},
   "outputs": [
    {
     "name": "stdout",
     "output_type": "stream",
     "text": [
      "[23, 20, 32, 18, 31, 10, 20, 22, 11, 22, 28, 23, 27, 13, 20, 21, 34, 32, 9, 14, 15, 17, 10, 25]\n"
     ]
    }
   ],
   "source": [
    "print(water_temps)"
   ]
  },
  {
   "cell_type": "code",
   "execution_count": 14,
   "metadata": {},
   "outputs": [],
   "source": [
    "temperature_data = pd.DataFrame(water_temps, columns = ['Temperature(℃)'])"
   ]
  },
  {
   "cell_type": "code",
   "execution_count": 15,
   "metadata": {},
   "outputs": [
    {
     "data": {
      "text/html": [
       "<div>\n",
       "<style scoped>\n",
       "    .dataframe tbody tr th:only-of-type {\n",
       "        vertical-align: middle;\n",
       "    }\n",
       "\n",
       "    .dataframe tbody tr th {\n",
       "        vertical-align: top;\n",
       "    }\n",
       "\n",
       "    .dataframe thead th {\n",
       "        text-align: right;\n",
       "    }\n",
       "</style>\n",
       "<table border=\"1\" class=\"dataframe\">\n",
       "  <thead>\n",
       "    <tr style=\"text-align: right;\">\n",
       "      <th></th>\n",
       "      <th>Temperature(℃)</th>\n",
       "    </tr>\n",
       "  </thead>\n",
       "  <tbody>\n",
       "    <tr>\n",
       "      <th>0</th>\n",
       "      <td>23</td>\n",
       "    </tr>\n",
       "    <tr>\n",
       "      <th>1</th>\n",
       "      <td>20</td>\n",
       "    </tr>\n",
       "    <tr>\n",
       "      <th>2</th>\n",
       "      <td>32</td>\n",
       "    </tr>\n",
       "    <tr>\n",
       "      <th>3</th>\n",
       "      <td>18</td>\n",
       "    </tr>\n",
       "    <tr>\n",
       "      <th>4</th>\n",
       "      <td>31</td>\n",
       "    </tr>\n",
       "    <tr>\n",
       "      <th>5</th>\n",
       "      <td>10</td>\n",
       "    </tr>\n",
       "    <tr>\n",
       "      <th>6</th>\n",
       "      <td>20</td>\n",
       "    </tr>\n",
       "    <tr>\n",
       "      <th>7</th>\n",
       "      <td>22</td>\n",
       "    </tr>\n",
       "    <tr>\n",
       "      <th>8</th>\n",
       "      <td>11</td>\n",
       "    </tr>\n",
       "    <tr>\n",
       "      <th>9</th>\n",
       "      <td>22</td>\n",
       "    </tr>\n",
       "    <tr>\n",
       "      <th>10</th>\n",
       "      <td>28</td>\n",
       "    </tr>\n",
       "    <tr>\n",
       "      <th>11</th>\n",
       "      <td>23</td>\n",
       "    </tr>\n",
       "    <tr>\n",
       "      <th>12</th>\n",
       "      <td>27</td>\n",
       "    </tr>\n",
       "    <tr>\n",
       "      <th>13</th>\n",
       "      <td>13</td>\n",
       "    </tr>\n",
       "    <tr>\n",
       "      <th>14</th>\n",
       "      <td>20</td>\n",
       "    </tr>\n",
       "    <tr>\n",
       "      <th>15</th>\n",
       "      <td>21</td>\n",
       "    </tr>\n",
       "    <tr>\n",
       "      <th>16</th>\n",
       "      <td>34</td>\n",
       "    </tr>\n",
       "    <tr>\n",
       "      <th>17</th>\n",
       "      <td>32</td>\n",
       "    </tr>\n",
       "    <tr>\n",
       "      <th>18</th>\n",
       "      <td>9</td>\n",
       "    </tr>\n",
       "    <tr>\n",
       "      <th>19</th>\n",
       "      <td>14</td>\n",
       "    </tr>\n",
       "    <tr>\n",
       "      <th>20</th>\n",
       "      <td>15</td>\n",
       "    </tr>\n",
       "    <tr>\n",
       "      <th>21</th>\n",
       "      <td>17</td>\n",
       "    </tr>\n",
       "    <tr>\n",
       "      <th>22</th>\n",
       "      <td>10</td>\n",
       "    </tr>\n",
       "    <tr>\n",
       "      <th>23</th>\n",
       "      <td>25</td>\n",
       "    </tr>\n",
       "  </tbody>\n",
       "</table>\n",
       "</div>"
      ],
      "text/plain": [
       "    Temperature(℃)\n",
       "0               23\n",
       "1               20\n",
       "2               32\n",
       "3               18\n",
       "4               31\n",
       "5               10\n",
       "6               20\n",
       "7               22\n",
       "8               11\n",
       "9               22\n",
       "10              28\n",
       "11              23\n",
       "12              27\n",
       "13              13\n",
       "14              20\n",
       "15              21\n",
       "16              34\n",
       "17              32\n",
       "18               9\n",
       "19              14\n",
       "20              15\n",
       "21              17\n",
       "22              10\n",
       "23              25"
      ]
     },
     "execution_count": 15,
     "metadata": {},
     "output_type": "execute_result"
    }
   ],
   "source": [
    "temperature_data"
   ]
  },
  {
   "cell_type": "code",
   "execution_count": 9,
   "metadata": {},
   "outputs": [],
   "source": [
    "#temperature_data.to_csv(\"../datasets/temperature_data_test.csv\")"
   ]
  },
  {
   "cell_type": "code",
   "execution_count": 9,
   "metadata": {},
   "outputs": [
    {
     "data": {
      "text/plain": [
       "Text(0.5, 1.0, 'Hourly pH Of The Water in the Mahurangi Harbour Region Over A 24 Hour Period')"
      ]
     },
     "execution_count": 9,
     "metadata": {},
     "output_type": "execute_result"
    },
    {
     "data": {
      "image/png": "[encoded data removed]",
      "text/plain": [
       "<Figure size 432x288 with 1 Axes>"
      ]
     },
     "metadata": {
      "needs_background": "light"
     },
     "output_type": "display_data"
    }
   ],
   "source": [
    "temperature_data.plot()\n",
    "plt.xticks(rotation=0, fontsize=15)\n",
    "plt.yticks(rotation=0, fontsize=15)\n",
    "plt.ylabel('Temperature')\n",
    "plt.xlabel('Time')\n",
    "#plt.title(location)\n",
    "plt.title('Hourly Temperature Of The Water in the Mahurangi Harbour Region Over A 24 Hour Period')"
   ]
  },
  {
   "cell_type": "code",
   "execution_count": 18,
   "metadata": {},
   "outputs": [
    {
     "name": "stdout",
     "output_type": "stream",
     "text": [
      "Temperature within desirable range\n",
      "Temperature within desirable range\n",
      "Temperature within desirable range\n",
      "Temperature within desirable range\n",
      "Temperature within desirable range\n",
      "Temperature outside of desirable range\n",
      "Temperature within desirable range\n",
      "Temperature within desirable range\n",
      "Temperature outside of desirable range\n",
      "Temperature within desirable range\n",
      "Temperature within desirable range\n",
      "Temperature within desirable range\n",
      "Temperature within desirable range\n",
      "Temperature within desirable range\n",
      "Temperature within desirable range\n",
      "Temperature within desirable range\n",
      "Temperature within desirable range\n",
      "Temperature within desirable range\n",
      "Temperature outside of desirable range\n",
      "Temperature within desirable range\n",
      "Temperature within desirable range\n",
      "Temperature within desirable range\n",
      "Temperature outside of desirable range\n",
      "Temperature within desirable range\n"
     ]
    }
   ],
   "source": [
    "alerts = []\n",
    "for temp in water_temps:\n",
    "    if temp < 12 or temp > 35:\n",
    "        print(\"Temperature outside of desirable range\")\n",
    "        alerts.append(temp)\n",
    "    else:\n",
    "        print(\"Temperature within desirable range\")"
   ]
  },
  {
   "cell_type": "code",
   "execution_count": 19,
   "metadata": {},
   "outputs": [
    {
     "name": "stdout",
     "output_type": "stream",
     "text": [
      "[10, 11, 9, 10]\n"
     ]
    }
   ],
   "source": [
    "print(alerts)"
   ]
  },
  {
   "cell_type": "code",
   "execution_count": 1,
   "metadata": {},
   "outputs": [
    {
     "name": "stdout",
     "output_type": "stream",
     "text": [
      "0\n",
      "[]\n",
      "pH:7\n",
      "7\n",
      "pH:3\n",
      "3\n",
      "pH:4\n",
      "4\n",
      "pH:5\n",
      "5\n",
      "pH:6\n",
      "6\n",
      "pH:8\n",
      "8\n",
      "pH:8\n",
      "8\n",
      "pH:9\n",
      "9\n",
      "pH:6\n",
      "6\n",
      "pH:3\n",
      "3\n",
      "pH:5\n",
      "5\n",
      "pH:10\n",
      "10\n",
      "pH:5\n",
      "5\n",
      "pH:5\n",
      "5\n",
      "pH:7\n",
      "7\n",
      "pH:9\n",
      "9\n",
      "pH:8\n",
      "8\n",
      "pH:8\n",
      "8\n",
      "pH:7\n",
      "7\n",
      "pH:8\n",
      "8\n",
      "pH:8\n",
      "8\n",
      "pH:6\n",
      "6\n",
      "pH:8\n",
      "8\n",
      "pH:9\n",
      "9\n"
     ]
    }
   ],
   "source": [
    "pH = 0\n",
    "print(pH)\n",
    "pHs = []\n",
    "print(pHs)\n",
    "\n",
    "#Generates an example dataset\n",
    "for i in range(0, 24):\n",
    "    pH = int(input(\"pH:\"))\n",
    "    print(pH)\n",
    "    pHs.append(pH)"
   ]
  },
  {
   "cell_type": "code",
   "execution_count": 2,
   "metadata": {},
   "outputs": [
    {
     "name": "stdout",
     "output_type": "stream",
     "text": [
      "[7, 3, 4, 5, 6, 8, 8, 9, 6, 3, 5, 10, 5, 5, 7, 9, 8, 8, 7, 8, 8, 6, 8, 9]\n"
     ]
    }
   ],
   "source": [
    "print(pHs)"
   ]
  },
  {
   "cell_type": "code",
   "execution_count": 8,
   "metadata": {},
   "outputs": [
    {
     "data": {
      "text/html": [
       "<div>\n",
       "<style scoped>\n",
       "    .dataframe tbody tr th:only-of-type {\n",
       "        vertical-align: middle;\n",
       "    }\n",
       "\n",
       "    .dataframe tbody tr th {\n",
       "        vertical-align: top;\n",
       "    }\n",
       "\n",
       "    .dataframe thead th {\n",
       "        text-align: right;\n",
       "    }\n",
       "</style>\n",
       "<table border=\"1\" class=\"dataframe\">\n",
       "  <thead>\n",
       "    <tr style=\"text-align: right;\">\n",
       "      <th></th>\n",
       "      <th>pH</th>\n",
       "    </tr>\n",
       "  </thead>\n",
       "  <tbody>\n",
       "    <tr>\n",
       "      <th>0</th>\n",
       "      <td>7</td>\n",
       "    </tr>\n",
       "    <tr>\n",
       "      <th>1</th>\n",
       "      <td>3</td>\n",
       "    </tr>\n",
       "    <tr>\n",
       "      <th>2</th>\n",
       "      <td>4</td>\n",
       "    </tr>\n",
       "    <tr>\n",
       "      <th>3</th>\n",
       "      <td>5</td>\n",
       "    </tr>\n",
       "    <tr>\n",
       "      <th>4</th>\n",
       "      <td>6</td>\n",
       "    </tr>\n",
       "    <tr>\n",
       "      <th>5</th>\n",
       "      <td>8</td>\n",
       "    </tr>\n",
       "    <tr>\n",
       "      <th>6</th>\n",
       "      <td>8</td>\n",
       "    </tr>\n",
       "    <tr>\n",
       "      <th>7</th>\n",
       "      <td>9</td>\n",
       "    </tr>\n",
       "    <tr>\n",
       "      <th>8</th>\n",
       "      <td>6</td>\n",
       "    </tr>\n",
       "    <tr>\n",
       "      <th>9</th>\n",
       "      <td>3</td>\n",
       "    </tr>\n",
       "    <tr>\n",
       "      <th>10</th>\n",
       "      <td>5</td>\n",
       "    </tr>\n",
       "    <tr>\n",
       "      <th>11</th>\n",
       "      <td>10</td>\n",
       "    </tr>\n",
       "    <tr>\n",
       "      <th>12</th>\n",
       "      <td>5</td>\n",
       "    </tr>\n",
       "    <tr>\n",
       "      <th>13</th>\n",
       "      <td>5</td>\n",
       "    </tr>\n",
       "    <tr>\n",
       "      <th>14</th>\n",
       "      <td>7</td>\n",
       "    </tr>\n",
       "    <tr>\n",
       "      <th>15</th>\n",
       "      <td>9</td>\n",
       "    </tr>\n",
       "    <tr>\n",
       "      <th>16</th>\n",
       "      <td>8</td>\n",
       "    </tr>\n",
       "    <tr>\n",
       "      <th>17</th>\n",
       "      <td>8</td>\n",
       "    </tr>\n",
       "    <tr>\n",
       "      <th>18</th>\n",
       "      <td>7</td>\n",
       "    </tr>\n",
       "    <tr>\n",
       "      <th>19</th>\n",
       "      <td>8</td>\n",
       "    </tr>\n",
       "    <tr>\n",
       "      <th>20</th>\n",
       "      <td>8</td>\n",
       "    </tr>\n",
       "    <tr>\n",
       "      <th>21</th>\n",
       "      <td>6</td>\n",
       "    </tr>\n",
       "    <tr>\n",
       "      <th>22</th>\n",
       "      <td>8</td>\n",
       "    </tr>\n",
       "    <tr>\n",
       "      <th>23</th>\n",
       "      <td>9</td>\n",
       "    </tr>\n",
       "  </tbody>\n",
       "</table>\n",
       "</div>"
      ],
      "text/plain": [
       "    pH\n",
       "0    7\n",
       "1    3\n",
       "2    4\n",
       "3    5\n",
       "4    6\n",
       "5    8\n",
       "6    8\n",
       "7    9\n",
       "8    6\n",
       "9    3\n",
       "10   5\n",
       "11  10\n",
       "12   5\n",
       "13   5\n",
       "14   7\n",
       "15   9\n",
       "16   8\n",
       "17   8\n",
       "18   7\n",
       "19   8\n",
       "20   8\n",
       "21   6\n",
       "22   8\n",
       "23   9"
      ]
     },
     "execution_count": 8,
     "metadata": {},
     "output_type": "execute_result"
    }
   ],
   "source": [
    "pH_data = pd.DataFrame(pHs, columns = ['pH'])\n",
    "pH_data"
   ]
  },
  {
   "cell_type": "code",
   "execution_count": 10,
   "metadata": {},
   "outputs": [
    {
     "data": {
      "text/plain": [
       "Text(0.5, 1.0, 'Hourly pH Of The Water in the Mahurangi Harbour Region Over A 24 Hour Period')"
      ]
     },
     "execution_count": 10,
     "metadata": {},
     "output_type": "execute_result"
    },
    {
     "data": {
      "image/png": "[encoded data removed]",
      "text/plain": [
       "<Figure size 432x288 with 1 Axes>"
      ]
     },
     "metadata": {
      "needs_background": "light"
     },
     "output_type": "display_data"
    }
   ],
   "source": [
    "pH_data.plot()\n",
    "plt.xticks(rotation=0, fontsize=15)\n",
    "plt.yticks(rotation=0, fontsize=15)\n",
    "plt.ylabel('pH')\n",
    "plt.xlabel('Time')\n",
    "#plt.title(location)\n",
    "plt.title('Hourly pH Of The Water in the Mahurangi Harbour Region Over A 24 Hour Period')"
   ]
  },
  {
   "cell_type": "code",
   "execution_count": 11,
   "metadata": {},
   "outputs": [
    {
     "name": "stdout",
     "output_type": "stream",
     "text": [
      "pH within desirable range\n",
      "pH outside of desirable range\n",
      "pH within desirable range\n",
      "pH within desirable range\n",
      "pH within desirable range\n",
      "pH within desirable range\n",
      "pH within desirable range\n",
      "pH within desirable range\n",
      "pH within desirable range\n",
      "pH outside of desirable range\n",
      "pH within desirable range\n",
      "pH within desirable range\n",
      "pH within desirable range\n",
      "pH within desirable range\n",
      "pH within desirable range\n",
      "pH within desirable range\n",
      "pH within desirable range\n",
      "pH within desirable range\n",
      "pH within desirable range\n",
      "pH within desirable range\n",
      "pH within desirable range\n",
      "pH within desirable range\n",
      "pH within desirable range\n",
      "pH within desirable range\n"
     ]
    }
   ],
   "source": [
    "pH_alerts = []\n",
    "for pH in pHs:\n",
    "    if pH < 4 or pH > 11:\n",
    "        print(\"pH outside of desirable range\")\n",
    "        pH_alerts.append(pH)\n",
    "    else:\n",
    "        print(\"pH within desirable range\")"
   ]
  },
  {
   "cell_type": "code",
   "execution_count": 12,
   "metadata": {},
   "outputs": [
    {
     "name": "stdout",
     "output_type": "stream",
     "text": [
      "[3, 3]\n"
     ]
    }
   ],
   "source": [
    "print(pH_alerts)"
   ]
  },
  {
   "cell_type": "code",
   "execution_count": null,
   "metadata": {},
   "outputs": [],
   "source": []
  }
 ],
 "metadata": {
  "kernelspec": {
   "display_name": "Python 3",
   "language": "python",
   "name": "python3"
  },
  "language_info": {
   "codemirror_mode": {
    "name": "ipython",
    "version": 3
   },
   "file_extension": ".py",
   "mimetype": "text/x-python",
   "name": "python",
   "nbconvert_exporter": "python",
   "pygments_lexer": "ipython3",
   "version": "3.8.5"
  }
 },
 "nbformat": 4,
 "nbformat_minor": 4
}
