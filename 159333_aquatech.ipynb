{
 "cells": [
  {
   "cell_type": "code",
   "execution_count": 1,
   "metadata": {},
   "outputs": [],
   "source": [
    "import pandas as pd\n",
    "import numpy as np\n",
    "import matplotlib.pyplot as plt\n",
    "import time\n",
    "import seaborn as sns\n",
    "from pylab import rcParams"
   ]
  },
  {
   "cell_type": "code",
   "execution_count": 2,
   "metadata": {},
   "outputs": [
    {
     "name": "stdout",
     "output_type": "stream",
     "text": [
      "Enter your location:Gulf Harbour\n",
      "Gulf Harbour\n",
      "Temperature(℃)23\n",
      "23 ℃\n",
      "Temperature(℃)20\n",
      "20 ℃\n",
      "Temperature(℃)32\n",
      "32 ℃\n",
      "Temperature(℃)18\n",
      "18 ℃\n",
      "Temperature(℃)31\n",
      "31 ℃\n",
      "Temperature(℃)10\n",
      "10 ℃\n",
      "Temperature(℃)20\n",
      "20 ℃\n",
      "Temperature(℃)22\n",
      "22 ℃\n",
      "Temperature(℃)11\n",
      "11 ℃\n",
      "Temperature(℃)22\n",
      "22 ℃\n",
      "Temperature(℃)28\n",
      "28 ℃\n",
      "Temperature(℃)23\n",
      "23 ℃\n",
      "Temperature(℃)27\n",
      "27 ℃\n",
      "Temperature(℃)13\n",
      "13 ℃\n",
      "Temperature(℃)20\n",
      "20 ℃\n",
      "Temperature(℃)21\n",
      "21 ℃\n",
      "Temperature(℃)34\n",
      "34 ℃\n",
      "Temperature(℃)32\n",
      "32 ℃\n",
      "Temperature(℃)9\n",
      "9 ℃\n",
      "Temperature(℃)14\n",
      "14 ℃\n",
      "Temperature(℃)15\n",
      "15 ℃\n",
      "Temperature(℃)17\n",
      "17 ℃\n",
      "Temperature(℃)10\n",
      "10 ℃\n",
      "Temperature(℃)25\n",
      "25 ℃\n"
     ]
    }
   ],
   "source": [
    "#Functionality / alerts code\n",
    "location = input(\"Enter your location:\")\n",
    "print(location)\n",
    "\n",
    "temperature = 0\n",
    "#print(temperature)\n",
    "water_temps = []\n",
    "#print(water_temps)\n",
    "\n",
    "#Generates an example dataset\n",
    "for i in range(0, 24):\n",
    "    temperature = int(input(\"Temperature(℃)\"))\n",
    "    print(temperature,\"℃\")\n",
    "    water_temps.append(temperature)"
   ]
  },
  {
   "cell_type": "code",
   "execution_count": 8,
   "metadata": {},
   "outputs": [
    {
     "name": "stdout",
     "output_type": "stream",
     "text": [
      "[23, 20, 32, 18, 31, 10, 20, 22, 11, 22, 28, 23, 27, 13, 20, 21, 34, 32, 9, 14, 15, 17, 10, 25]\n"
     ]
    }
   ],
   "source": [
    "print(water_temps)"
   ]
  },
  {
   "cell_type": "code",
   "execution_count": 9,
   "metadata": {},
   "outputs": [],
   "source": [
    "temperature_data = pd.DataFrame(water_temps, columns = ['Temperature(℃)'])"
   ]
  },
  {
   "cell_type": "code",
   "execution_count": 10,
   "metadata": {},
   "outputs": [
    {
     "data": {
      "text/html": [
       "<div>\n",
       "<style scoped>\n",
       "    .dataframe tbody tr th:only-of-type {\n",
       "        vertical-align: middle;\n",
       "    }\n",
       "\n",
       "    .dataframe tbody tr th {\n",
       "        vertical-align: top;\n",
       "    }\n",
       "\n",
       "    .dataframe thead th {\n",
       "        text-align: right;\n",
       "    }\n",
       "</style>\n",
       "<table border=\"1\" class=\"dataframe\">\n",
       "  <thead>\n",
       "    <tr style=\"text-align: right;\">\n",
       "      <th></th>\n",
       "      <th>Temperature(℃)</th>\n",
       "    </tr>\n",
       "  </thead>\n",
       "  <tbody>\n",
       "    <tr>\n",
       "      <th>0</th>\n",
       "      <td>23</td>\n",
       "    </tr>\n",
       "    <tr>\n",
       "      <th>1</th>\n",
       "      <td>20</td>\n",
       "    </tr>\n",
       "    <tr>\n",
       "      <th>2</th>\n",
       "      <td>32</td>\n",
       "    </tr>\n",
       "    <tr>\n",
       "      <th>3</th>\n",
       "      <td>18</td>\n",
       "    </tr>\n",
       "    <tr>\n",
       "      <th>4</th>\n",
       "      <td>31</td>\n",
       "    </tr>\n",
       "    <tr>\n",
       "      <th>5</th>\n",
       "      <td>10</td>\n",
       "    </tr>\n",
       "    <tr>\n",
       "      <th>6</th>\n",
       "      <td>20</td>\n",
       "    </tr>\n",
       "    <tr>\n",
       "      <th>7</th>\n",
       "      <td>22</td>\n",
       "    </tr>\n",
       "    <tr>\n",
       "      <th>8</th>\n",
       "      <td>11</td>\n",
       "    </tr>\n",
       "    <tr>\n",
       "      <th>9</th>\n",
       "      <td>22</td>\n",
       "    </tr>\n",
       "    <tr>\n",
       "      <th>10</th>\n",
       "      <td>28</td>\n",
       "    </tr>\n",
       "    <tr>\n",
       "      <th>11</th>\n",
       "      <td>23</td>\n",
       "    </tr>\n",
       "    <tr>\n",
       "      <th>12</th>\n",
       "      <td>27</td>\n",
       "    </tr>\n",
       "    <tr>\n",
       "      <th>13</th>\n",
       "      <td>13</td>\n",
       "    </tr>\n",
       "    <tr>\n",
       "      <th>14</th>\n",
       "      <td>20</td>\n",
       "    </tr>\n",
       "    <tr>\n",
       "      <th>15</th>\n",
       "      <td>21</td>\n",
       "    </tr>\n",
       "    <tr>\n",
       "      <th>16</th>\n",
       "      <td>34</td>\n",
       "    </tr>\n",
       "    <tr>\n",
       "      <th>17</th>\n",
       "      <td>32</td>\n",
       "    </tr>\n",
       "    <tr>\n",
       "      <th>18</th>\n",
       "      <td>9</td>\n",
       "    </tr>\n",
       "    <tr>\n",
       "      <th>19</th>\n",
       "      <td>14</td>\n",
       "    </tr>\n",
       "    <tr>\n",
       "      <th>20</th>\n",
       "      <td>15</td>\n",
       "    </tr>\n",
       "    <tr>\n",
       "      <th>21</th>\n",
       "      <td>17</td>\n",
       "    </tr>\n",
       "    <tr>\n",
       "      <th>22</th>\n",
       "      <td>10</td>\n",
       "    </tr>\n",
       "    <tr>\n",
       "      <th>23</th>\n",
       "      <td>25</td>\n",
       "    </tr>\n",
       "  </tbody>\n",
       "</table>\n",
       "</div>"
      ],
      "text/plain": [
       "    Temperature(℃)\n",
       "0               23\n",
       "1               20\n",
       "2               32\n",
       "3               18\n",
       "4               31\n",
       "5               10\n",
       "6               20\n",
       "7               22\n",
       "8               11\n",
       "9               22\n",
       "10              28\n",
       "11              23\n",
       "12              27\n",
       "13              13\n",
       "14              20\n",
       "15              21\n",
       "16              34\n",
       "17              32\n",
       "18               9\n",
       "19              14\n",
       "20              15\n",
       "21              17\n",
       "22              10\n",
       "23              25"
      ]
     },
     "execution_count": 10,
     "metadata": {},
     "output_type": "execute_result"
    }
   ],
   "source": [
    "temperature_data"
   ]
  },
  {
   "cell_type": "code",
   "execution_count": 6,
   "metadata": {},
   "outputs": [],
   "source": [
    "#temperature_data.to_csv(\"../datasets/temperature_data_test.csv\")"
   ]
  },
  {
   "cell_type": "code",
   "execution_count": 18,
   "metadata": {},
   "outputs": [
    {
     "data": {
      "text/plain": [
       "Text(0.5, 1.0, 'Hourly Temperature(℃) Of The Water in the Mahurangi Harbour Region Over A 24 Hour Cycle')"
      ]
     },
     "execution_count": 18,
     "metadata": {},
     "output_type": "execute_result"
    },
    {
     "data": {
      "image/png": "[encoded data removed]",
      "text/plain": [
       "<Figure size 432x288 with 1 Axes>"
      ]
     },
     "metadata": {
      "needs_background": "light"
     },
     "output_type": "display_data"
    }
   ],
   "source": [
    "temperature_data.plot()\n",
    "#plt.title(location)\n",
    "plt.title('Hourly Temperature(℃) Of The Water in the Mahurangi Harbour Region Over A 24 Hour Cycle')"
   ]
  },
  {
   "cell_type": "code",
   "execution_count": null,
   "metadata": {},
   "outputs": [],
   "source": []
  }
 ],
 "metadata": {
  "kernelspec": {
   "display_name": "Python 3",
   "language": "python",
   "name": "python3"
  },
  "language_info": {
   "codemirror_mode": {
    "name": "ipython",
    "version": 3
   },
   "file_extension": ".py",
   "mimetype": "text/x-python",
   "name": "python",
   "nbconvert_exporter": "python",
   "pygments_lexer": "ipython3",
   "version": "3.8.5"
  }
 },
 "nbformat": 4,
 "nbformat_minor": 4
}
